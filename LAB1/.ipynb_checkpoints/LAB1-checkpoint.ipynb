{
 "cells": [
  {
   "cell_type": "code",
   "execution_count": 1,
   "id": "5550a16d",
   "metadata": {},
   "outputs": [],
   "source": [
    "#import libs\n",
    "import urllib3\n",
    "import pandas"
   ]
  },
  {
   "cell_type": "code",
   "execution_count": 26,
   "id": "ace7bfc7",
   "metadata": {},
   "outputs": [],
   "source": [
    "local_id_to_global_id = {1:22,2:24,3:23,4:25,5:3,6:4,7:8,8:19,9:20,10:21,11:9,12:None,13:10,14:11,15:12,\n",
    "                        16:13,17:14,18:15,19:16,20:None,21:17,22:18,23:6,24:1,25:2,26:7,27:5}\n",
    "province_id_to_name = {1:'Вінницька',2:'Волинська',3:'Дніпропетровська',4:'Донецька',5:'Житомирська',\n",
    "                       6:'Закарпатська',7:'Запорізька',8:'Івано-Франківська',9:'Київська',10:'Кіровоградська',\n",
    "                      11:'Луганська',12:'Львівська',13:'Миколаївська',14:'Одеська',15:'Полтавська',\n",
    "                       16:'Рівенська',17:'Сумська',18:'Тернопільська',19:'Харківська',20:'Херсонська',\n",
    "                      21:'Хмельницька',22:'Черкаська',23:'Чернівецька',24:'Чернігівська',25:'Республіка Крим'}"
   ]
  },
  {
   "cell_type": "code",
   "execution_count": 31,
   "id": "85d94d30",
   "metadata": {},
   "outputs": [
    {
     "name": "stdout",
     "output_type": "stream",
     "text": [
      "All done\n"
     ]
    }
   ],
   "source": [
    "#Download all the datasets and convert it to csv part 1\n",
    "http = urllib3.PoolManager()\n",
    "for i in range (1,28):\n",
    "    if local_id_to_global_id[i] != None:\n",
    "        url = \"https://www.star.nesdis.noaa.gov/smcd/emb/vci/VH/get_TS_admin.php?country=UKR&provinceID={}&year1=1981&year2=2023&type=Mean\".format(local_id_to_global_id[i])\n",
    "        vhi_data = http.request('GET',url, preload_content=False).read().decode('ascii')\n",
    "        lines = vhi_data.split('\\n')\n",
    "        lines.pop(0)\n",
    "        lines[0] = lines[0][:-5]\n",
    "        lines[1] = lines[1][9:]\n",
    "        lines.pop(-1)\n",
    "        lines = [x.replace(',',';') + \"\\n\" for x in lines]\n",
    "        with open(str(local_id_to_global_id[i])+\"_overall.csv\",'w') as f:\n",
    "            f.writelines(lines)\n",
    "            \n",
    "print('All done')"
   ]
  },
  {
   "cell_type": "code",
   "execution_count": 34,
   "id": "436e689b",
   "metadata": {},
   "outputs": [
    {
     "name": "stdout",
     "output_type": "stream",
     "text": [
      "All done\n"
     ]
    }
   ],
   "source": [
    "#Download all the datasets and convert it to csv part 2\n",
    "http = urllib3.PoolManager()\n",
    "for i in range (1,28):\n",
    "    if local_id_to_global_id[i] != None:\n",
    "        url = \"https://www.star.nesdis.noaa.gov/smcd/emb/vci/VH/get_TS_admin.php?country=UKR&provinceID={}&year1=1981&year2=2023&type=VHI_Parea\".format(local_id_to_global_id[i])\n",
    "        vhi_data = http.request('GET',url, preload_content=False).read().decode('ascii')\n",
    "        lines = vhi_data.split('\\n')\n",
    "        lines.pop(0)\n",
    "        lines.pop(0)\n",
    "        lines[0] = \"Year; Week; 0-5; 5-10; 10-15; 15-20; 20-25; 25-30; 30-35; 35-40; 40-45; 45-50; 50-55; 55-60; 60-65; 65-70; 70-75; 75-80; 80-85; 85-90; 90-95; 95-100; 100+ \"\n",
    "        lines[1] = lines[1][9:]\n",
    "        lines.pop(-1)      \n",
    "        lines = [x.replace(',',';') + \"\\n\" for x in lines]\n",
    "        \n",
    "        with open(str(local_id_to_global_id[i])+\"_vhi_parea.csv\",'w') as f:\n",
    "            f.writelines(lines)\n",
    "            \n",
    "print('All done')"
   ]
  },
  {
   "cell_type": "code",
   "execution_count": 59,
   "id": "3b1d1da0",
   "metadata": {},
   "outputs": [],
   "source": [
    "#Functions to create right dataframe from csv\n",
    "def CreateOverallDataFrame(province_id):\n",
    "    headers = ['Year', 'Week', ' SMN', 'SMT', 'VCI', 'TCI', 'VHI']\n",
    "    df = pandas.read_csv(str(province_id)+\"_overall.csv\",index_col=False,names=headers,header = 1,sep=';')\n",
    "    df = df.astype({\"Year\":\"int\",\"Week\":\"int\",' SMN': \"float\", 'SMT': \"float\", 'VCI' : \"float\", 'TCI' : \"float\", 'VHI' : \"float\"})\n",
    "    df = df.drop(df.loc[df['VHI'] == -1].index)\n",
    "    return df\n",
    "\n",
    "def CreatePAreaDataFrame(province_id):\n",
    "    headers = [\"Year\", \"Week\", \"VHI range: 0-5\",\"VHI range: 5-10\",\"VHI range: 10-15\",\"VHI range: 15-20\",\"VHI range: 20-25\",\"VHI range: 25-30\",\"VHI range: 30-35\", \"VHI range: 35-40\" ,\"VHI range: 40-45\", \"VHI range: 45-50\",\"VHI range: 50-55\" ,\"VHI range: 55-60\", \"VHI range: 60-65\", \"VHI range: 65-70\", \"VHI range: 70-75\", \"VHI range: 75-80\", \"VHI range: 80-85\", \"VHI range: 85-90\", \"VHI range: 90-95\", \"VHI range: 95-100\", \"VHI range: 100+\"]\n",
    "    df = pandas.read_csv(str(province_id)+\"_vhi_parea.csv\",index_col=False,names=headers,header = 1,sep=';')\n",
    "    df = df.astype(\"float\")\n",
    "    df = df.astype({\"Year\":\"int\",\"Week\":\"int\"})\n",
    "    df = df.drop(df.loc[df[\"VHI range: 0-5\"] == -1].index)\n",
    "    df = df.drop(df.loc[df[\"VHI range: 5-10\"] == -1].index)\n",
    "    df = df.drop(df.loc[df[\"VHI range: 10-15\"] == -1].index)\n",
    "    df = df.drop(df.loc[df[\"VHI range: 15-20\"] == -1].index)\n",
    "    df = df.drop(df.loc[df[\"VHI range: 20-25\"] == -1].index)\n",
    "    df = df.drop(df.loc[df[\"VHI range: 25-30\"] == -1].index)\n",
    "    df = df.drop(df.loc[df[\"VHI range: 30-35\"] == -1].index)\n",
    "    df = df.drop(df.loc[df[\"VHI range: 35-40\"] == -1].index)\n",
    "    df = df.drop(df.loc[df[\"VHI range: 40-45\"] == -1].index)\n",
    "    df = df.drop(df.loc[df[\"VHI range: 45-50\"] == -1].index)\n",
    "    df = df.drop(df.loc[df[\"VHI range: 50-55\"] == -1].index)\n",
    "    df = df.drop(df.loc[df[\"VHI range: 55-60\"] == -1].index)\n",
    "    df = df.drop(df.loc[df[\"VHI range: 60-65\"] == -1].index)\n",
    "    df = df.drop(df.loc[df[\"VHI range: 65-70\"] == -1].index)\n",
    "    df = df.drop(df.loc[df[\"VHI range: 70-75\"] == -1].index)\n",
    "    df = df.drop(df.loc[df[\"VHI range: 75-80\"] == -1].index)\n",
    "    df = df.drop(df.loc[df[\"VHI range: 80-85\"] == -1].index)\n",
    "    df = df.drop(df.loc[df[\"VHI range: 85-90\"] == -1].index)\n",
    "    df = df.drop(df.loc[df[\"VHI range: 90-95\"] == -1].index)\n",
    "    df = df.drop(df.loc[df[\"VHI range: 95-100\"] == -1].index)\n",
    "    df = df.drop(df.loc[df[\"VHI range: 100+\"] == -1].index)\n",
    "    return df"
   ]
  },
  {
   "cell_type": "code",
   "execution_count": 111,
   "id": "61ce630d",
   "metadata": {},
   "outputs": [],
   "source": [
    "#samples\n",
    "def ProvinceVHIExtr(province_id, year):\n",
    "    df = CreateDataFrame(str(province_id)+\".csv\")\n",
    "    print('VHI for {} in {} year: '.format(province_id_to_name[province_id],year))\n",
    "    print(df[(df['Year']==year)][['Year','Week','VHI']])\n",
    "    print('Minimum value is {} , Maximum value is {}'.format(df[(df['Year']==year)]['VHI'].min(),df[(df['Year']==year)]['VHI'].max()))\n",
    "\n",
    "def ProvinceVHI15forPArea(province_id,parea):\n",
    "    parea_df = CreatePAreaDataFrame(province_id)\n",
    "    vhi_df = CreateOverallDataFrame(province_id)\n",
    "    \n",
    "    print(\"VHI<15 for {} with parea > {} \".format(province_id_to_name[province_id],parea))\n",
    "    df = vhi_df[(vhi_df['VHI']< 15)&(parea_df[\"VHI range: 0-5\"]+parea_df[\"VHI range: 5-10\"]+parea_df[\"VHI range: 10-15\"] >= parea)][[\"Year\",\"Week\",\"VHI\"]]\n",
    "    print(df)\n",
    "    \n",
    "def ProvinceVHI35forPArea(province_id,parea):\n",
    "    parea_df = CreatePAreaDataFrame(province_id)\n",
    "    vhi_df = CreateOverallDataFrame(province_id)\n",
    "    \n",
    "    print(\"15<VHI<35 for {} with parea > {} \".format(province_id_to_name[province_id],parea))\n",
    "    df = vhi_df[(vhi_df['VHI']< 35)&(vhi_df['VHI'] >= 15)&(parea_df[\"VHI range: 0-5\"]+parea_df[\"VHI range: 5-10\"]+parea_df[\"VHI range: 10-15\"]+parea_df[\"VHI range: 15-20\"]+parea_df[\"VHI range: 20-25\"]+parea_df[\"VHI range: 25-30\"] >= parea)][[\"Year\",\"Week\",\"VHI\"]]\n",
    "    print(df)\n"
   ]
  },
  {
   "cell_type": "code",
   "execution_count": null,
   "id": "a654fa89",
   "metadata": {},
   "outputs": [],
   "source": []
  },
  {
   "cell_type": "code",
   "execution_count": null,
   "id": "a4dc9f87",
   "metadata": {},
   "outputs": [],
   "source": []
  }
 ],
 "metadata": {
  "kernelspec": {
   "display_name": "Python 3",
   "language": "python",
   "name": "python3"
  },
  "language_info": {
   "codemirror_mode": {
    "name": "ipython",
    "version": 3
   },
   "file_extension": ".py",
   "mimetype": "text/x-python",
   "name": "python",
   "nbconvert_exporter": "python",
   "pygments_lexer": "ipython3",
   "version": "3.8.8"
  }
 },
 "nbformat": 4,
 "nbformat_minor": 5
}
